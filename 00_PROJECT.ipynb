{
  "cells": [
    {
      "cell_type": "code",
      "execution_count": 1,
      "metadata": {
        "id": "vTGbF6hgwhoK"
      },
      "outputs": [],
      "source": [
        "import pandas as pd\n",
        "import numpy as np\n",
        "\n",
        "pd.set_option('display.max_colwidth', None)\n",
        "path = '/content/Dune2_IMDB.csv'"
      ]
    },
    {
      "cell_type": "code",
      "execution_count": 3,
      "metadata": {
        "id": "7gTALKc3ANfl"
      },
      "outputs": [],
      "source": [
        "df = pd.read_csv(path)"
      ]
    },
    {
      "cell_type": "code",
      "source": [
        "df.head()"
      ],
      "metadata": {
        "colab": {
          "base_uri": "https://localhost:8080/",
          "height": 1000
        },
        "id": "c-nLDcGYHI04",
        "outputId": "eff5223c-28c2-4b84-8a2f-95bd85a1f8cf"
      },
      "execution_count": 4,
      "outputs": [
        {
          "output_type": "execute_result",
          "data": {
            "text/plain": [
              "                                         Review Title Review Date  \\\n",
              "0                     This is what Hollywood needs!\\n  2024-02-26   \n",
              "1                            Long live the fighters\\n  2024-02-26   \n",
              "2   Ladies and gentleman.. the PEAK of filmmaking!!\\n  2024-02-28   \n",
              "3                     WOW! I need Dune Messiah now.\\n  2024-02-26   \n",
              "4         The Sci-Fi/Fantasy Epic of our Generation\\n  2024-02-26   \n",
              "\n",
              "                                                                                                                                                                                                                                                                                                                                                                                                                                                                                                                                                                                                                                                                                                                                                                                                                                                                                                                                                                                                                                                                                                                                                                                                                                                                                                                                                                                                                                                                                                                                                                                                                                                                                                                                                                                                                                                                                                                                                                                                                                                                                                                                                                                                                                                                                                                                                                                                                                                                                                                                                                                                                                                                                                                                                                                                                                                                                                                                                                                                                                                                                                                                                                                                                                                                                                                                                                                                                                                                                                                                                                                                                                                                                                                                                                                                                                                                                                                                                                                                                                                                                                                                                                                                                                                                                                                                                                                                                                                                                                                                                                                                                                                                                                                                                                                                                                                                                                                                                                                                                                                                                                                                                                                                                                                                                                                                                                                                                                                                                                                                                                                                                                                                                                                                                                                                                                                                                                                                                                                                                                                            Review Content  \\\n",
              "0                                                                                                                                                                                                                                                                                                                                                                                                                                                                                                                                                                                                                                                                                                                                                                                                                                                                                                                                                                                                                                                                                                                                                                                                                                                                                                                                                                                                                                                                                                                                                                                                                                                                                                                                                                                                                                                                                                                                                                                                                                                                                                                                                                                                                                                                                                                                                                                                                                                                                                                                                                                                                                                                                                                                                                                                                                                                                                                                                                                                                                                                                                                                                                                                                                                                                                                                                                                                                                                                                                                                                                                                                                                                                                                                                                                                                                                                                                                                                                                                                                                                                                                                                                                                                                                                                                                                                                                                                                                                                                                                                                                                                                                                                                                                                                                                                                                                                                                                                                                                                                                                                                                                                                                                                                                                                                                                                                                                                           This is what Hollywood needs. A great story with a great director/producer. After that the best thing a studio can do is get the hell out of the way and let artists create art.Dune Part 2 is creative, beautiful, tragic, and mesmerizing. Never once did I get bored or anticipate what was going to happen next. I haven't read the book so I have nothing to compare it to.Denis Villeneuve continues to amaze me with the effort he puts into each of his films. The acting in this film was top notch too. We saw it in IMAX and the sound was earth shattering. If you're gonna see this movie, see it on the largest screen possible.   \n",
              "1  Phenomenal stuff. I'll probably calm down tomorrow but right now my heart's beating like crazy and my brain's screaming it's a bloody masterpiece. This is one of the few movies that I didn't try to control my expectations beforehand and it still surpassed them in many ways.\"Power over spice is power over all\"- that kinda turned out to be a lie at the end. As The movie starts, I felt an immediate sense of tension through its score. It's a cinematic experience; I can't imagine feeling the same lying at home in bed, watching in headphones. The resonating vibrations as the sounds reverberate through the theater created an epic atmosphere.When Part One came out people said it was \"game of thrones in space\", I wasn't really taken by that as much, especially since people said the same about Apple TV's Foundation series. So I just enjoyed the movie as Dune and bore no comparisons. After watching part two however I see it; the world building, the politics, the epic grandeur of it all.However, the first half of Dune Part Two is pretty grounded and calm, delving into the lives of the Fremen. It almost feels like two distinct movies, the first half intricately setting the stage for the climactic third act and reinforcing character connections established in Dune Part One. Unlike the Part One's focus on lore, this movie is more devotion-driven, also resembling a political narrative, especially knowing of the hidden puppeteers behind the empire. The result appears to be an intricate web of schemes involving the empire, the witch-advisor women(can't spell their names lol), and the Baron's family. Despite the emperor's pulling the strings, the Baron's family still felt like main antagonist to me.The second half of the movie is where we see the epic scale of dune. The movies not quick paced but you couldn't tell, I was absolutely immersed in it.I absolutely loved the kind \"The mahdi is too humble to say he is the mahdi.\" Theatre burst out in laughter. It felt weird, I wasn't expecting any humour. It's funnier than I expected. More lively than the first Dune movie. I'd already seen the Usul-worm-riding scene from the Dune Part One reopening bonus content. I was still just as excited and it didn't spoil a thing.The visual brilliance, as expected was stunning, elevating every aspect. The authenticity of the scenes made it feel as if characters were immersed in the environment, rather than merely placed against a green screen. I loved the portrayal of time passing through Paul's changing eyes; the longer he stays the bluer his eyes get. Despite how lively it is, the plot, while progressing at a measured pace, remains engaging, drawing attention away from its deliberate slowness. It has much more action, the battles were absolutely epic, I feel like they could have been longer but they still captivated me.Jessica disappears for a while, but just when I thought that, she showed up. Other than Paul and Zendeya, the rest of the cast doesn't really get as much screen time as you'd think. I loved the baby/embryo/featus scenes. Batista with no mask in the desert while his whole team's suited up was badass. I love him in darker roles, although I think some moments felt overly animated. But it gave an effective contrast to Austin Butler though, I couldn't wait to see what his character was like. Very fierce, intimidating and psycho. The girl shivering with the plate in her hands before the gladiator games made me chuckle. Butler did also sound like the baron at times.Dune: Part Two stands steady on its own, it felt complete compared to the more introductory feel of Part One. Despite this, I still felt like it lays groundwork for Dune: Part Three/Messiah, leaving a sense of setup. The movie, while feeling like a precursor, still manages to provide a more conclusive ending. I also think you should watch Part One first, if that has to be said; and the prospect of a back-to-back viewing sounds like a fun afternoon.One thing I can complain about is Stilger. I have mixed feelings. In Part One, Javier was fierce and was my favorite character, in this movie though he's depicted as a religious fanatic for the most part. It was done well, but I still miss the Stilgar who walked up to Duke Leto Atreides with no disregard. This felt like a different person, still fierce, just different.Loved Austin butler though, I wasn't sure what to expect as I tried my best to avoid trailers and teasers apart from the Dune part one bonus content. That short lady in charge of extracting 'the water of life' had some insane calves on her, I'm extremely jealous.While I was initially not convinced about Timothée Chalamet as the lead, he truly owns the role in the sequel, displayed acting facets I'd not seen before from him. The movie essentially unfolds as Paul Atreides' coming-of-age story, with Zendaya delivering an amazing performance. The first act, focusing on their love story, adds depth to the events at the movie's end. Zendaya's portrayal transcends the typical love story, I hope her role extends into Dune: Messiah, and hopefully adds further complexity to her character.We see Paul undergo some transformations. From being the son of royalty to experiencing love, the narrative takes a surprising turn when he assumes authority in the third act. Although I liked it, it felt a bit rushed. But, I found solace/logic with the \"water of life\" spiritual poison, where drinking it resulted in a profound shift in your personality. The contrast between the before and after versions of Paul, as well as Jessica, is striking so it kinda made sense to me.I think watching this movie at home won't do it justice, it's clearly made for the big screens if you can. It's pretty epic and I think it'll remain memorable as one of 2024's best movies, despite only being February. I absolutely loved it.   \n",
              "2                                                                                                                                                                                                                                                                                                                                                                                                                                                                                                                                                                                                                                                                                                                                                                                                                                                                                                                                                                                                                                                                                                                                                                                                                                                                                                                                                                                                                                                                                                                                                                                                                                                                                                                                                                                                                                                                                                                                                                                                                                                                                                                                                                                                                                                                                                                                                                                                                                                                                                                                                                                                                                                                                                                                                                                                                                                                                                                                                                                                                                                                                                                                                                                                                                                                                                                                                                                                                                                                                                                                                                                                                                                                                                                                                                                                                                                                                                                                                                                                                                                                                                                                                                                                                                                                                                                                                                                                                                                                                                                                                                                                                                                                                                                                                                                                                                                                                                                                                                                                                                                                                                                    This is the kind of movie that is impossible to do justice, just by talking about it! It is the kind of experience you had once.. but you never thought you would get again.. until this movie proves you WRONG!!This movie takes the aspects of the first movie and improves upon them in almost every way possible, already writing itself into the books of greatest sequels of ALL TIME!!Everything in this movie was TOP notch! Dennis Villeneauve proves why he is not only a master of Sci-Fi movies, but just filmmaking in general! This was a demonstration of power, in what you can achieve with filmmaking!I beg you to watch this on the biggest and best screen you can find! This will be an experience that will stick with you forever!I thought the real Blockbuster was dead.. but I was wrong! This is the cinematic experience i craved!Now I am gonna watch this movie again, and maybe again! Then I am gonna read the books!   \n",
              "3                                                                                                                                                                                                                                                                                                                                                                                                                                                                                                                                                                                                                                                                                                                                                                                                                                                                                                                                                                                                                                                                                                                                                                                                                                                                                                                                                                                                                                                                                                                                                                                                                                                                                                                                                                                                                                                                                                                                                                                                                                                                                                                                                                                                                                                                                                                                                                                                                                                                                                                                                                                                                                                                                                                                                                                                                                                                                                                                                                                                                                                                                                                                                                                                                                                                                                                                                                                                                                                                                                                                                                                                                                                                                                                                                                                                                                                                                                                                                                                                                                                                                                                                                                                                                                                                                                                                                                                                                                                                                                                                                                                                                                                                                                                                                                                                                                                                                       If you liked or loved the first one, the same will apply for this one. Personally, I loved this one even more and I think general audiences will as well. So I hope it does well at the box office because I need Dune Messiah now. This is everything I love about going to the movies. Also, Hans Zimmer.For book readers, I'd say this one takes more liberties than the first, but they were changes I liked, some for the better even. For the most part, it still hits the main beats from the book with a few things altered. The biggest change being no time jump. Therefore, a certain character doesn't fully appear in the movie contrary to the book. Though, they still use the character in a different way that I liked personally.I know it's early in the year, but you can lock some Oscar nominations for this movie: Best Picture, Best Director, Best Adapted Screenplay, Best Editing, Best Cinematography, Best Score, Best Sound, Best Visual Effects, Best Costume, Best Production Design, Best Makeup, and hopefully Rebecca Ferguson this time for Best Supporting Actress. I guess that's pretty much every category now that I've typed it out lol.   \n",
              "4                                                                                                                                                                                                                                                                                                                                                                                                                                                                                                                                                                                                                                                                                                                                                                                                                                                                                                                                                                                                                                                                                                                                                                                                                                                                                                                                                                                                                                                                                                                                                                                                                                                                                                                                                                                                                                                                                                                                                                                                                                                                                                                                                                                                                                                                                                                                                                                                                                                                                                                                                                                                                                                                                                                                                                                                                                                                                                                                                                                                                                                                                                                                                                                                                                                                                                                                                                                                                                                                                                                                                                                                                                                            Had the pleasure to watch this film in an early screening and was completely blown away.As a big fan of the Game of Thrones franchise, it's been a long time since iv'e encountered this level of world-building and epicness. Would highly recommend to re-watch the first movie in order to appreciate the subtleties and foreshadowing better, though it's not completely necessary since the movie is pretty self-contained and would please general audience that only watched the first movie 3 years ago just as well.Denis Villeneuve continues to prove himself as one of the most promising filmmakers of our time, and if it was up to me I would keep him in these high-budget epic tales such as these since there are very few directors working today that can tackle this genre as good as he does.In my personal opinion, the movie is better than the first part in pretty much every aspect. Hans Zimmer's score is masterful just as you'd expect, and one step up from the Oscar winner and Grammy nominated score of Pt. 1. Technical aspects such as VFX, Production Design, Sound, Editing, etc. Are all top notch and awards-worthy. The action sequences are absolutely mind blowing and sent chills down my spine. Denis direction is impeccable, and the story is absolutely fascinating- continuing to develop characters from Pt. 1 even deeper and introduce new incredible and intriguing characters.The movie serves as a great wrap-up to the story introduced in Pt. 1 however in my opinion could serve as an even better set-up to a possible masterpiece in Dune: Messiah, which I really hope will get green-lit soon.I believe (and surely hope) this movie will be a major player in the next Award Season. Below-the-line wins are pretty much guaranteed as of now, but I hope it will get some love in above-the-line categories such as Direction and even Best Picture, perhaps to break stigmas presented against the Fantasy/Sci-Fi genre in recent years at the Academy. As a big fan of the genre, unless a better competitor will be released later this eligibility period, maybe it's time for a movie like this to triumph once again.Don't miss the opportunity to catch this movie on IMAX, since I believe it's an historic piece of epic-Fantasy/Sci-Fi cinema and a movie that will be remembered as a classic of the genre.Extremely recommended.   \n",
              "\n",
              "   User Rating  \n",
              "0         10.0  \n",
              "1          9.0  \n",
              "2         10.0  \n",
              "3         10.0  \n",
              "4         10.0  "
            ],
            "text/html": [
              "\n",
              "  <div id=\"df-c42e86d8-a212-47a0-8e2d-a4622cd1390c\" class=\"colab-df-container\">\n",
              "    <div>\n",
              "<style scoped>\n",
              "    .dataframe tbody tr th:only-of-type {\n",
              "        vertical-align: middle;\n",
              "    }\n",
              "\n",
              "    .dataframe tbody tr th {\n",
              "        vertical-align: top;\n",
              "    }\n",
              "\n",
              "    .dataframe thead th {\n",
              "        text-align: right;\n",
              "    }\n",
              "</style>\n",
              "<table border=\"1\" class=\"dataframe\">\n",
              "  <thead>\n",
              "    <tr style=\"text-align: right;\">\n",
              "      <th></th>\n",
              "      <th>Review Title</th>\n",
              "      <th>Review Date</th>\n",
              "      <th>Review Content</th>\n",
              "      <th>User Rating</th>\n",
              "    </tr>\n",
              "  </thead>\n",
              "  <tbody>\n",
              "    <tr>\n",
              "      <th>0</th>\n",
              "      <td>This is what Hollywood needs!\\n</td>\n",
              "      <td>2024-02-26</td>\n",
              "      <td>This is what Hollywood needs. A great story with a great director/producer. After that the best thing a studio can do is get the hell out of the way and let artists create art.Dune Part 2 is creative, beautiful, tragic, and mesmerizing. Never once did I get bored or anticipate what was going to happen next. I haven't read the book so I have nothing to compare it to.Denis Villeneuve continues to amaze me with the effort he puts into each of his films. The acting in this film was top notch too. We saw it in IMAX and the sound was earth shattering. If you're gonna see this movie, see it on the largest screen possible.</td>\n",
              "      <td>10.0</td>\n",
              "    </tr>\n",
              "    <tr>\n",
              "      <th>1</th>\n",
              "      <td>Long live the fighters\\n</td>\n",
              "      <td>2024-02-26</td>\n",
              "      <td>Phenomenal stuff. I'll probably calm down tomorrow but right now my heart's beating like crazy and my brain's screaming it's a bloody masterpiece. This is one of the few movies that I didn't try to control my expectations beforehand and it still surpassed them in many ways.\"Power over spice is power over all\"- that kinda turned out to be a lie at the end. As The movie starts, I felt an immediate sense of tension through its score. It's a cinematic experience; I can't imagine feeling the same lying at home in bed, watching in headphones. The resonating vibrations as the sounds reverberate through the theater created an epic atmosphere.When Part One came out people said it was \"game of thrones in space\", I wasn't really taken by that as much, especially since people said the same about Apple TV's Foundation series. So I just enjoyed the movie as Dune and bore no comparisons. After watching part two however I see it; the world building, the politics, the epic grandeur of it all.However, the first half of Dune Part Two is pretty grounded and calm, delving into the lives of the Fremen. It almost feels like two distinct movies, the first half intricately setting the stage for the climactic third act and reinforcing character connections established in Dune Part One. Unlike the Part One's focus on lore, this movie is more devotion-driven, also resembling a political narrative, especially knowing of the hidden puppeteers behind the empire. The result appears to be an intricate web of schemes involving the empire, the witch-advisor women(can't spell their names lol), and the Baron's family. Despite the emperor's pulling the strings, the Baron's family still felt like main antagonist to me.The second half of the movie is where we see the epic scale of dune. The movies not quick paced but you couldn't tell, I was absolutely immersed in it.I absolutely loved the kind \"The mahdi is too humble to say he is the mahdi.\" Theatre burst out in laughter. It felt weird, I wasn't expecting any humour. It's funnier than I expected. More lively than the first Dune movie. I'd already seen the Usul-worm-riding scene from the Dune Part One reopening bonus content. I was still just as excited and it didn't spoil a thing.The visual brilliance, as expected was stunning, elevating every aspect. The authenticity of the scenes made it feel as if characters were immersed in the environment, rather than merely placed against a green screen. I loved the portrayal of time passing through Paul's changing eyes; the longer he stays the bluer his eyes get. Despite how lively it is, the plot, while progressing at a measured pace, remains engaging, drawing attention away from its deliberate slowness. It has much more action, the battles were absolutely epic, I feel like they could have been longer but they still captivated me.Jessica disappears for a while, but just when I thought that, she showed up. Other than Paul and Zendeya, the rest of the cast doesn't really get as much screen time as you'd think. I loved the baby/embryo/featus scenes. Batista with no mask in the desert while his whole team's suited up was badass. I love him in darker roles, although I think some moments felt overly animated. But it gave an effective contrast to Austin Butler though, I couldn't wait to see what his character was like. Very fierce, intimidating and psycho. The girl shivering with the plate in her hands before the gladiator games made me chuckle. Butler did also sound like the baron at times.Dune: Part Two stands steady on its own, it felt complete compared to the more introductory feel of Part One. Despite this, I still felt like it lays groundwork for Dune: Part Three/Messiah, leaving a sense of setup. The movie, while feeling like a precursor, still manages to provide a more conclusive ending. I also think you should watch Part One first, if that has to be said; and the prospect of a back-to-back viewing sounds like a fun afternoon.One thing I can complain about is Stilger. I have mixed feelings. In Part One, Javier was fierce and was my favorite character, in this movie though he's depicted as a religious fanatic for the most part. It was done well, but I still miss the Stilgar who walked up to Duke Leto Atreides with no disregard. This felt like a different person, still fierce, just different.Loved Austin butler though, I wasn't sure what to expect as I tried my best to avoid trailers and teasers apart from the Dune part one bonus content. That short lady in charge of extracting 'the water of life' had some insane calves on her, I'm extremely jealous.While I was initially not convinced about Timothée Chalamet as the lead, he truly owns the role in the sequel, displayed acting facets I'd not seen before from him. The movie essentially unfolds as Paul Atreides' coming-of-age story, with Zendaya delivering an amazing performance. The first act, focusing on their love story, adds depth to the events at the movie's end. Zendaya's portrayal transcends the typical love story, I hope her role extends into Dune: Messiah, and hopefully adds further complexity to her character.We see Paul undergo some transformations. From being the son of royalty to experiencing love, the narrative takes a surprising turn when he assumes authority in the third act. Although I liked it, it felt a bit rushed. But, I found solace/logic with the \"water of life\" spiritual poison, where drinking it resulted in a profound shift in your personality. The contrast between the before and after versions of Paul, as well as Jessica, is striking so it kinda made sense to me.I think watching this movie at home won't do it justice, it's clearly made for the big screens if you can. It's pretty epic and I think it'll remain memorable as one of 2024's best movies, despite only being February. I absolutely loved it.</td>\n",
              "      <td>9.0</td>\n",
              "    </tr>\n",
              "    <tr>\n",
              "      <th>2</th>\n",
              "      <td>Ladies and gentleman.. the PEAK of filmmaking!!\\n</td>\n",
              "      <td>2024-02-28</td>\n",
              "      <td>This is the kind of movie that is impossible to do justice, just by talking about it! It is the kind of experience you had once.. but you never thought you would get again.. until this movie proves you WRONG!!This movie takes the aspects of the first movie and improves upon them in almost every way possible, already writing itself into the books of greatest sequels of ALL TIME!!Everything in this movie was TOP notch! Dennis Villeneauve proves why he is not only a master of Sci-Fi movies, but just filmmaking in general! This was a demonstration of power, in what you can achieve with filmmaking!I beg you to watch this on the biggest and best screen you can find! This will be an experience that will stick with you forever!I thought the real Blockbuster was dead.. but I was wrong! This is the cinematic experience i craved!Now I am gonna watch this movie again, and maybe again! Then I am gonna read the books!</td>\n",
              "      <td>10.0</td>\n",
              "    </tr>\n",
              "    <tr>\n",
              "      <th>3</th>\n",
              "      <td>WOW! I need Dune Messiah now.\\n</td>\n",
              "      <td>2024-02-26</td>\n",
              "      <td>If you liked or loved the first one, the same will apply for this one. Personally, I loved this one even more and I think general audiences will as well. So I hope it does well at the box office because I need Dune Messiah now. This is everything I love about going to the movies. Also, Hans Zimmer.For book readers, I'd say this one takes more liberties than the first, but they were changes I liked, some for the better even. For the most part, it still hits the main beats from the book with a few things altered. The biggest change being no time jump. Therefore, a certain character doesn't fully appear in the movie contrary to the book. Though, they still use the character in a different way that I liked personally.I know it's early in the year, but you can lock some Oscar nominations for this movie: Best Picture, Best Director, Best Adapted Screenplay, Best Editing, Best Cinematography, Best Score, Best Sound, Best Visual Effects, Best Costume, Best Production Design, Best Makeup, and hopefully Rebecca Ferguson this time for Best Supporting Actress. I guess that's pretty much every category now that I've typed it out lol.</td>\n",
              "      <td>10.0</td>\n",
              "    </tr>\n",
              "    <tr>\n",
              "      <th>4</th>\n",
              "      <td>The Sci-Fi/Fantasy Epic of our Generation\\n</td>\n",
              "      <td>2024-02-26</td>\n",
              "      <td>Had the pleasure to watch this film in an early screening and was completely blown away.As a big fan of the Game of Thrones franchise, it's been a long time since iv'e encountered this level of world-building and epicness. Would highly recommend to re-watch the first movie in order to appreciate the subtleties and foreshadowing better, though it's not completely necessary since the movie is pretty self-contained and would please general audience that only watched the first movie 3 years ago just as well.Denis Villeneuve continues to prove himself as one of the most promising filmmakers of our time, and if it was up to me I would keep him in these high-budget epic tales such as these since there are very few directors working today that can tackle this genre as good as he does.In my personal opinion, the movie is better than the first part in pretty much every aspect. Hans Zimmer's score is masterful just as you'd expect, and one step up from the Oscar winner and Grammy nominated score of Pt. 1. Technical aspects such as VFX, Production Design, Sound, Editing, etc. Are all top notch and awards-worthy. The action sequences are absolutely mind blowing and sent chills down my spine. Denis direction is impeccable, and the story is absolutely fascinating- continuing to develop characters from Pt. 1 even deeper and introduce new incredible and intriguing characters.The movie serves as a great wrap-up to the story introduced in Pt. 1 however in my opinion could serve as an even better set-up to a possible masterpiece in Dune: Messiah, which I really hope will get green-lit soon.I believe (and surely hope) this movie will be a major player in the next Award Season. Below-the-line wins are pretty much guaranteed as of now, but I hope it will get some love in above-the-line categories such as Direction and even Best Picture, perhaps to break stigmas presented against the Fantasy/Sci-Fi genre in recent years at the Academy. As a big fan of the genre, unless a better competitor will be released later this eligibility period, maybe it's time for a movie like this to triumph once again.Don't miss the opportunity to catch this movie on IMAX, since I believe it's an historic piece of epic-Fantasy/Sci-Fi cinema and a movie that will be remembered as a classic of the genre.Extremely recommended.</td>\n",
              "      <td>10.0</td>\n",
              "    </tr>\n",
              "  </tbody>\n",
              "</table>\n",
              "</div>\n",
              "    <div class=\"colab-df-buttons\">\n",
              "\n",
              "  <div class=\"colab-df-container\">\n",
              "    <button class=\"colab-df-convert\" onclick=\"convertToInteractive('df-c42e86d8-a212-47a0-8e2d-a4622cd1390c')\"\n",
              "            title=\"Convert this dataframe to an interactive table.\"\n",
              "            style=\"display:none;\">\n",
              "\n",
              "  <svg xmlns=\"http://www.w3.org/2000/svg\" height=\"24px\" viewBox=\"0 -960 960 960\">\n",
              "    <path d=\"M120-120v-720h720v720H120Zm60-500h600v-160H180v160Zm220 220h160v-160H400v160Zm0 220h160v-160H400v160ZM180-400h160v-160H180v160Zm440 0h160v-160H620v160ZM180-180h160v-160H180v160Zm440 0h160v-160H620v160Z\"/>\n",
              "  </svg>\n",
              "    </button>\n",
              "\n",
              "  <style>\n",
              "    .colab-df-container {\n",
              "      display:flex;\n",
              "      gap: 12px;\n",
              "    }\n",
              "\n",
              "    .colab-df-convert {\n",
              "      background-color: #E8F0FE;\n",
              "      border: none;\n",
              "      border-radius: 50%;\n",
              "      cursor: pointer;\n",
              "      display: none;\n",
              "      fill: #1967D2;\n",
              "      height: 32px;\n",
              "      padding: 0 0 0 0;\n",
              "      width: 32px;\n",
              "    }\n",
              "\n",
              "    .colab-df-convert:hover {\n",
              "      background-color: #E2EBFA;\n",
              "      box-shadow: 0px 1px 2px rgba(60, 64, 67, 0.3), 0px 1px 3px 1px rgba(60, 64, 67, 0.15);\n",
              "      fill: #174EA6;\n",
              "    }\n",
              "\n",
              "    .colab-df-buttons div {\n",
              "      margin-bottom: 4px;\n",
              "    }\n",
              "\n",
              "    [theme=dark] .colab-df-convert {\n",
              "      background-color: #3B4455;\n",
              "      fill: #D2E3FC;\n",
              "    }\n",
              "\n",
              "    [theme=dark] .colab-df-convert:hover {\n",
              "      background-color: #434B5C;\n",
              "      box-shadow: 0px 1px 3px 1px rgba(0, 0, 0, 0.15);\n",
              "      filter: drop-shadow(0px 1px 2px rgba(0, 0, 0, 0.3));\n",
              "      fill: #FFFFFF;\n",
              "    }\n",
              "  </style>\n",
              "\n",
              "    <script>\n",
              "      const buttonEl =\n",
              "        document.querySelector('#df-c42e86d8-a212-47a0-8e2d-a4622cd1390c button.colab-df-convert');\n",
              "      buttonEl.style.display =\n",
              "        google.colab.kernel.accessAllowed ? 'block' : 'none';\n",
              "\n",
              "      async function convertToInteractive(key) {\n",
              "        const element = document.querySelector('#df-c42e86d8-a212-47a0-8e2d-a4622cd1390c');\n",
              "        const dataTable =\n",
              "          await google.colab.kernel.invokeFunction('convertToInteractive',\n",
              "                                                    [key], {});\n",
              "        if (!dataTable) return;\n",
              "\n",
              "        const docLinkHtml = 'Like what you see? Visit the ' +\n",
              "          '<a target=\"_blank\" href=https://colab.research.google.com/notebooks/data_table.ipynb>data table notebook</a>'\n",
              "          + ' to learn more about interactive tables.';\n",
              "        element.innerHTML = '';\n",
              "        dataTable['output_type'] = 'display_data';\n",
              "        await google.colab.output.renderOutput(dataTable, element);\n",
              "        const docLink = document.createElement('div');\n",
              "        docLink.innerHTML = docLinkHtml;\n",
              "        element.appendChild(docLink);\n",
              "      }\n",
              "    </script>\n",
              "  </div>\n",
              "\n",
              "\n",
              "<div id=\"df-b8c254f3-5821-4fe5-9bd8-884e2b6fa1e0\">\n",
              "  <button class=\"colab-df-quickchart\" onclick=\"quickchart('df-b8c254f3-5821-4fe5-9bd8-884e2b6fa1e0')\"\n",
              "            title=\"Suggest charts\"\n",
              "            style=\"display:none;\">\n",
              "\n",
              "<svg xmlns=\"http://www.w3.org/2000/svg\" height=\"24px\"viewBox=\"0 0 24 24\"\n",
              "     width=\"24px\">\n",
              "    <g>\n",
              "        <path d=\"M19 3H5c-1.1 0-2 .9-2 2v14c0 1.1.9 2 2 2h14c1.1 0 2-.9 2-2V5c0-1.1-.9-2-2-2zM9 17H7v-7h2v7zm4 0h-2V7h2v10zm4 0h-2v-4h2v4z\"/>\n",
              "    </g>\n",
              "</svg>\n",
              "  </button>\n",
              "\n",
              "<style>\n",
              "  .colab-df-quickchart {\n",
              "      --bg-color: #E8F0FE;\n",
              "      --fill-color: #1967D2;\n",
              "      --hover-bg-color: #E2EBFA;\n",
              "      --hover-fill-color: #174EA6;\n",
              "      --disabled-fill-color: #AAA;\n",
              "      --disabled-bg-color: #DDD;\n",
              "  }\n",
              "\n",
              "  [theme=dark] .colab-df-quickchart {\n",
              "      --bg-color: #3B4455;\n",
              "      --fill-color: #D2E3FC;\n",
              "      --hover-bg-color: #434B5C;\n",
              "      --hover-fill-color: #FFFFFF;\n",
              "      --disabled-bg-color: #3B4455;\n",
              "      --disabled-fill-color: #666;\n",
              "  }\n",
              "\n",
              "  .colab-df-quickchart {\n",
              "    background-color: var(--bg-color);\n",
              "    border: none;\n",
              "    border-radius: 50%;\n",
              "    cursor: pointer;\n",
              "    display: none;\n",
              "    fill: var(--fill-color);\n",
              "    height: 32px;\n",
              "    padding: 0;\n",
              "    width: 32px;\n",
              "  }\n",
              "\n",
              "  .colab-df-quickchart:hover {\n",
              "    background-color: var(--hover-bg-color);\n",
              "    box-shadow: 0 1px 2px rgba(60, 64, 67, 0.3), 0 1px 3px 1px rgba(60, 64, 67, 0.15);\n",
              "    fill: var(--button-hover-fill-color);\n",
              "  }\n",
              "\n",
              "  .colab-df-quickchart-complete:disabled,\n",
              "  .colab-df-quickchart-complete:disabled:hover {\n",
              "    background-color: var(--disabled-bg-color);\n",
              "    fill: var(--disabled-fill-color);\n",
              "    box-shadow: none;\n",
              "  }\n",
              "\n",
              "  .colab-df-spinner {\n",
              "    border: 2px solid var(--fill-color);\n",
              "    border-color: transparent;\n",
              "    border-bottom-color: var(--fill-color);\n",
              "    animation:\n",
              "      spin 1s steps(1) infinite;\n",
              "  }\n",
              "\n",
              "  @keyframes spin {\n",
              "    0% {\n",
              "      border-color: transparent;\n",
              "      border-bottom-color: var(--fill-color);\n",
              "      border-left-color: var(--fill-color);\n",
              "    }\n",
              "    20% {\n",
              "      border-color: transparent;\n",
              "      border-left-color: var(--fill-color);\n",
              "      border-top-color: var(--fill-color);\n",
              "    }\n",
              "    30% {\n",
              "      border-color: transparent;\n",
              "      border-left-color: var(--fill-color);\n",
              "      border-top-color: var(--fill-color);\n",
              "      border-right-color: var(--fill-color);\n",
              "    }\n",
              "    40% {\n",
              "      border-color: transparent;\n",
              "      border-right-color: var(--fill-color);\n",
              "      border-top-color: var(--fill-color);\n",
              "    }\n",
              "    60% {\n",
              "      border-color: transparent;\n",
              "      border-right-color: var(--fill-color);\n",
              "    }\n",
              "    80% {\n",
              "      border-color: transparent;\n",
              "      border-right-color: var(--fill-color);\n",
              "      border-bottom-color: var(--fill-color);\n",
              "    }\n",
              "    90% {\n",
              "      border-color: transparent;\n",
              "      border-bottom-color: var(--fill-color);\n",
              "    }\n",
              "  }\n",
              "</style>\n",
              "\n",
              "  <script>\n",
              "    async function quickchart(key) {\n",
              "      const quickchartButtonEl =\n",
              "        document.querySelector('#' + key + ' button');\n",
              "      quickchartButtonEl.disabled = true;  // To prevent multiple clicks.\n",
              "      quickchartButtonEl.classList.add('colab-df-spinner');\n",
              "      try {\n",
              "        const charts = await google.colab.kernel.invokeFunction(\n",
              "            'suggestCharts', [key], {});\n",
              "      } catch (error) {\n",
              "        console.error('Error during call to suggestCharts:', error);\n",
              "      }\n",
              "      quickchartButtonEl.classList.remove('colab-df-spinner');\n",
              "      quickchartButtonEl.classList.add('colab-df-quickchart-complete');\n",
              "    }\n",
              "    (() => {\n",
              "      let quickchartButtonEl =\n",
              "        document.querySelector('#df-b8c254f3-5821-4fe5-9bd8-884e2b6fa1e0 button');\n",
              "      quickchartButtonEl.style.display =\n",
              "        google.colab.kernel.accessAllowed ? 'block' : 'none';\n",
              "    })();\n",
              "  </script>\n",
              "</div>\n",
              "\n",
              "    </div>\n",
              "  </div>\n"
            ],
            "application/vnd.google.colaboratory.intrinsic+json": {
              "type": "dataframe",
              "variable_name": "df",
              "summary": "{\n  \"name\": \"df\",\n  \"rows\": 1066,\n  \"fields\": [\n    {\n      \"column\": \"Review Title\",\n      \"properties\": {\n        \"dtype\": \"string\",\n        \"num_unique_values\": 1031,\n        \"samples\": [\n          \" Apologies to the cult, it's not for me; Part I was better\\n\",\n          \" Visually Spectacular and Chalamet Captivates\\n\",\n          \" This is what the word Epic was made for\\n\"\n        ],\n        \"semantic_type\": \"\",\n        \"description\": \"\"\n      }\n    },\n    {\n      \"column\": \"Review Date\",\n      \"properties\": {\n        \"dtype\": \"object\",\n        \"num_unique_values\": 10,\n        \"samples\": [\n          \"2024-02-27\",\n          \"2024-02-28\",\n          \"2024-03-02\"\n        ],\n        \"semantic_type\": \"\",\n        \"description\": \"\"\n      }\n    },\n    {\n      \"column\": \"Review Content\",\n      \"properties\": {\n        \"dtype\": \"string\",\n        \"num_unique_values\": 1065,\n        \"samples\": [\n          \"I actually enjoyed Part I more than this. One hour in, I had to check the time. There's only so much time that can be spent on explaining that Charlamee is the savior.The bright spot was definitely Javier Bardem, great performance for an otherwise banal cast of actors. Don't get me wrong, the visuals were outstanding, and the story had its moments, but overall it was frankly boring.This was a big disappointment because it got off to a really good start and in the first hour, the editing and immersion was on point. But once they entered Austin Butler's character, it fell apart.Cringeworthy character development and cliched storytelling at its finest, but I'm sure younger people and newbie sci-fi fans will love it. This is no masterpiece, not even close. Part I was actually better overall.4/10.\",\n          \"Villeneuve knocks this one out the park proving again he is probably the best director working in science fictionThe only reason I knocked this down from a 10 is my knowledge of the book - not sure I am entirely on board with the changes to ChaniAustin Butler and Javier Bardem steal the show - Chalomet genuinely surprised me by showing the range needed to portray the soon to be dictator PaulSee this on the biggest screen possible as the battle of Arrakeen is epic cinema and the cinematography is gorgeousSpecial FX are absolutely outstanding as well - my faith in Hollywood has been slightly restored.\",\n          \"DUNE PART 2 is a literal masterpiece. Everyone gave a performance of a lifetime, the action is grand and epic, the hand to hand combat is fast paced, the cinematography and vfx are the best I've seen, writing and storytelling are at its finest, the score and sound effects are beautiful and loud. This movie is super immersive. The stand out are timothee, Zendaya and Austin Butler. Pacing is perfect as you are super immerse in the movie that you lost the sense of time. Watch this in an IMAX theatre. There is a little bit of comedy in the first half and there is some quotes to be remembered for decades. This is cinema baby!! Definitely in my top 10 fav movie ever. Watch it.\"\n        ],\n        \"semantic_type\": \"\",\n        \"description\": \"\"\n      }\n    },\n    {\n      \"column\": \"User Rating\",\n      \"properties\": {\n        \"dtype\": \"number\",\n        \"std\": 2.1488050645684136,\n        \"min\": 1.0,\n        \"max\": 10.0,\n        \"num_unique_values\": 10,\n        \"samples\": [\n          2.0,\n          9.0,\n          6.0\n        ],\n        \"semantic_type\": \"\",\n        \"description\": \"\"\n      }\n    }\n  ]\n}"
            }
          },
          "metadata": {},
          "execution_count": 4
        }
      ]
    },
    {
      "cell_type": "code",
      "source": [
        "df.columns"
      ],
      "metadata": {
        "colab": {
          "base_uri": "https://localhost:8080/"
        },
        "id": "3oBsx9HrHJ2j",
        "outputId": "9a176d3e-6a79-4e1e-e547-f13b328db2f3"
      },
      "execution_count": 5,
      "outputs": [
        {
          "output_type": "execute_result",
          "data": {
            "text/plain": [
              "Index(['Review Title', 'Review Date', 'Review Content', 'User Rating'], dtype='object')"
            ]
          },
          "metadata": {},
          "execution_count": 5
        }
      ]
    },
    {
      "cell_type": "code",
      "source": [
        "df.info()"
      ],
      "metadata": {
        "colab": {
          "base_uri": "https://localhost:8080/"
        },
        "id": "8Y2Sjy6aHQhe",
        "outputId": "961a7996-759c-4fbc-b117-47402fb178f4"
      },
      "execution_count": 7,
      "outputs": [
        {
          "output_type": "stream",
          "name": "stdout",
          "text": [
            "<class 'pandas.core.frame.DataFrame'>\n",
            "RangeIndex: 1066 entries, 0 to 1065\n",
            "Data columns (total 4 columns):\n",
            " #   Column          Non-Null Count  Dtype  \n",
            "---  ------          --------------  -----  \n",
            " 0   Review Title    1066 non-null   object \n",
            " 1   Review Date     1066 non-null   object \n",
            " 2   Review Content  1066 non-null   object \n",
            " 3   User Rating     1056 non-null   float64\n",
            "dtypes: float64(1), object(3)\n",
            "memory usage: 33.4+ KB\n"
          ]
        }
      ]
    },
    {
      "cell_type": "code",
      "source": [
        "df.isnull().sum()"
      ],
      "metadata": {
        "colab": {
          "base_uri": "https://localhost:8080/"
        },
        "id": "3BlT2yq1HePw",
        "outputId": "cb5b9233-8f29-4c1b-8474-ffc5c3c2824d"
      },
      "execution_count": 9,
      "outputs": [
        {
          "output_type": "execute_result",
          "data": {
            "text/plain": [
              "Review Title       0\n",
              "Review Date        0\n",
              "Review Content     0\n",
              "User Rating       10\n",
              "dtype: int64"
            ]
          },
          "metadata": {},
          "execution_count": 9
        }
      ]
    },
    {
      "cell_type": "code",
      "source": [
        "df2 = df[~df['User Rating'].isnull()]"
      ],
      "metadata": {
        "id": "iZ47rRHiHnm8"
      },
      "execution_count": 13,
      "outputs": []
    },
    {
      "cell_type": "code",
      "source": [
        "df2.isnull().sum()"
      ],
      "metadata": {
        "colab": {
          "base_uri": "https://localhost:8080/"
        },
        "id": "Fd7WESL9IH2C",
        "outputId": "ae5e20dc-c698-44da-abb9-f61097cdbc62"
      },
      "execution_count": 14,
      "outputs": [
        {
          "output_type": "execute_result",
          "data": {
            "text/plain": [
              "Review Title      0\n",
              "Review Date       0\n",
              "Review Content    0\n",
              "User Rating       0\n",
              "dtype: int64"
            ]
          },
          "metadata": {},
          "execution_count": 14
        }
      ]
    },
    {
      "cell_type": "markdown",
      "source": [
        "1. THERE ARE NO NULLS IN OUR DATA.\n",
        "2. Now, check datatypes."
      ],
      "metadata": {
        "id": "Whdw1IMtIdTC"
      }
    },
    {
      "cell_type": "code",
      "source": [
        "df.info()"
      ],
      "metadata": {
        "colab": {
          "base_uri": "https://localhost:8080/"
        },
        "id": "JkTqO02PIbuo",
        "outputId": "d04477e5-6af0-4c6e-8c69-9029ddb8f775"
      },
      "execution_count": 15,
      "outputs": [
        {
          "output_type": "stream",
          "name": "stdout",
          "text": [
            "<class 'pandas.core.frame.DataFrame'>\n",
            "RangeIndex: 1066 entries, 0 to 1065\n",
            "Data columns (total 4 columns):\n",
            " #   Column          Non-Null Count  Dtype  \n",
            "---  ------          --------------  -----  \n",
            " 0   Review Title    1066 non-null   object \n",
            " 1   Review Date     1066 non-null   object \n",
            " 2   Review Content  1066 non-null   object \n",
            " 3   User Rating     1056 non-null   float64\n",
            "dtypes: float64(1), object(3)\n",
            "memory usage: 33.4+ KB\n"
          ]
        }
      ]
    },
    {
      "cell_type": "code",
      "source": [
        "df3 = df2.copy()"
      ],
      "metadata": {
        "id": "c9d0kGlbIqe9"
      },
      "execution_count": 16,
      "outputs": []
    },
    {
      "cell_type": "code",
      "source": [
        "df3.columns"
      ],
      "metadata": {
        "colab": {
          "base_uri": "https://localhost:8080/"
        },
        "id": "MgxDgkmGI36m",
        "outputId": "8d21deb5-92e0-4ee0-8908-158f2671da62"
      },
      "execution_count": 17,
      "outputs": [
        {
          "output_type": "execute_result",
          "data": {
            "text/plain": [
              "Index(['Review Title', 'Review Date', 'Review Content', 'User Rating'], dtype='object')"
            ]
          },
          "metadata": {},
          "execution_count": 17
        }
      ]
    },
    {
      "cell_type": "code",
      "source": [
        "df3.columns = ['title', 'date', 'content', 'rating']"
      ],
      "metadata": {
        "id": "-1EgZfJjI5_w"
      },
      "execution_count": 18,
      "outputs": []
    },
    {
      "cell_type": "code",
      "source": [
        "df3.columns"
      ],
      "metadata": {
        "colab": {
          "base_uri": "https://localhost:8080/"
        },
        "id": "n60k6S6wI9-K",
        "outputId": "dfe08035-8400-46e8-e858-af51077efe92"
      },
      "execution_count": 19,
      "outputs": [
        {
          "output_type": "execute_result",
          "data": {
            "text/plain": [
              "Index(['title', 'date', 'content', 'rating'], dtype='object')"
            ]
          },
          "metadata": {},
          "execution_count": 19
        }
      ]
    },
    {
      "cell_type": "code",
      "source": [
        "df3.head()"
      ],
      "metadata": {
        "colab": {
          "base_uri": "https://localhost:8080/",
          "height": 1000
        },
        "id": "RJDfo8jFI_Mi",
        "outputId": "743233e5-4b56-45fd-dc30-b3c0b4429a24"
      },
      "execution_count": 20,
      "outputs": [
        {
          "output_type": "execute_result",
          "data": {
            "text/plain": [
              "                                                title        date  \\\n",
              "0                     This is what Hollywood needs!\\n  2024-02-26   \n",
              "1                            Long live the fighters\\n  2024-02-26   \n",
              "2   Ladies and gentleman.. the PEAK of filmmaking!!\\n  2024-02-28   \n",
              "3                     WOW! I need Dune Messiah now.\\n  2024-02-26   \n",
              "4         The Sci-Fi/Fantasy Epic of our Generation\\n  2024-02-26   \n",
              "\n",
              "                                                                                                                                                                                                                                                                                                                                                                                                                                                                                                                                                                                                                                                                                                                                                                                                                                                                                                                                                                                                                                                                                                                                                                                                                                                                                                                                                                                                                                                                                                                                                                                                                                                                                                                                                                                                                                                                                                                                                                                                                                                                                                                                                                                                                                                                                                                                                                                                                                                                                                                                                                                                                                                                                                                                                                                                                                                                                                                                                                                                                                                                                                                                                                                                                                                                                                                                                                                                                                                                                                                                                                                                                                                                                                                                                                                                                                                                                                                                                                                                                                                                                                                                                                                                                                                                                                                                                                                                                                                                                                                                                                                                                                                                                                                                                                                                                                                                                                                                                                                                                                                                                                                                                                                                                                                                                                                                                                                                                                                                                                                                                                                                                                                                                                                                                                                                                                                                                                                                                                                                                                                                   content  \\\n",
              "0                                                                                                                                                                                                                                                                                                                                                                                                                                                                                                                                                                                                                                                                                                                                                                                                                                                                                                                                                                                                                                                                                                                                                                                                                                                                                                                                                                                                                                                                                                                                                                                                                                                                                                                                                                                                                                                                                                                                                                                                                                                                                                                                                                                                                                                                                                                                                                                                                                                                                                                                                                                                                                                                                                                                                                                                                                                                                                                                                                                                                                                                                                                                                                                                                                                                                                                                                                                                                                                                                                                                                                                                                                                                                                                                                                                                                                                                                                                                                                                                                                                                                                                                                                                                                                                                                                                                                                                                                                                                                                                                                                                                                                                                                                                                                                                                                                                                                                                                                                                                                                                                                                                                                                                                                                                                                                                                                                                                                           This is what Hollywood needs. A great story with a great director/producer. After that the best thing a studio can do is get the hell out of the way and let artists create art.Dune Part 2 is creative, beautiful, tragic, and mesmerizing. Never once did I get bored or anticipate what was going to happen next. I haven't read the book so I have nothing to compare it to.Denis Villeneuve continues to amaze me with the effort he puts into each of his films. The acting in this film was top notch too. We saw it in IMAX and the sound was earth shattering. If you're gonna see this movie, see it on the largest screen possible.   \n",
              "1  Phenomenal stuff. I'll probably calm down tomorrow but right now my heart's beating like crazy and my brain's screaming it's a bloody masterpiece. This is one of the few movies that I didn't try to control my expectations beforehand and it still surpassed them in many ways.\"Power over spice is power over all\"- that kinda turned out to be a lie at the end. As The movie starts, I felt an immediate sense of tension through its score. It's a cinematic experience; I can't imagine feeling the same lying at home in bed, watching in headphones. The resonating vibrations as the sounds reverberate through the theater created an epic atmosphere.When Part One came out people said it was \"game of thrones in space\", I wasn't really taken by that as much, especially since people said the same about Apple TV's Foundation series. So I just enjoyed the movie as Dune and bore no comparisons. After watching part two however I see it; the world building, the politics, the epic grandeur of it all.However, the first half of Dune Part Two is pretty grounded and calm, delving into the lives of the Fremen. It almost feels like two distinct movies, the first half intricately setting the stage for the climactic third act and reinforcing character connections established in Dune Part One. Unlike the Part One's focus on lore, this movie is more devotion-driven, also resembling a political narrative, especially knowing of the hidden puppeteers behind the empire. The result appears to be an intricate web of schemes involving the empire, the witch-advisor women(can't spell their names lol), and the Baron's family. Despite the emperor's pulling the strings, the Baron's family still felt like main antagonist to me.The second half of the movie is where we see the epic scale of dune. The movies not quick paced but you couldn't tell, I was absolutely immersed in it.I absolutely loved the kind \"The mahdi is too humble to say he is the mahdi.\" Theatre burst out in laughter. It felt weird, I wasn't expecting any humour. It's funnier than I expected. More lively than the first Dune movie. I'd already seen the Usul-worm-riding scene from the Dune Part One reopening bonus content. I was still just as excited and it didn't spoil a thing.The visual brilliance, as expected was stunning, elevating every aspect. The authenticity of the scenes made it feel as if characters were immersed in the environment, rather than merely placed against a green screen. I loved the portrayal of time passing through Paul's changing eyes; the longer he stays the bluer his eyes get. Despite how lively it is, the plot, while progressing at a measured pace, remains engaging, drawing attention away from its deliberate slowness. It has much more action, the battles were absolutely epic, I feel like they could have been longer but they still captivated me.Jessica disappears for a while, but just when I thought that, she showed up. Other than Paul and Zendeya, the rest of the cast doesn't really get as much screen time as you'd think. I loved the baby/embryo/featus scenes. Batista with no mask in the desert while his whole team's suited up was badass. I love him in darker roles, although I think some moments felt overly animated. But it gave an effective contrast to Austin Butler though, I couldn't wait to see what his character was like. Very fierce, intimidating and psycho. The girl shivering with the plate in her hands before the gladiator games made me chuckle. Butler did also sound like the baron at times.Dune: Part Two stands steady on its own, it felt complete compared to the more introductory feel of Part One. Despite this, I still felt like it lays groundwork for Dune: Part Three/Messiah, leaving a sense of setup. The movie, while feeling like a precursor, still manages to provide a more conclusive ending. I also think you should watch Part One first, if that has to be said; and the prospect of a back-to-back viewing sounds like a fun afternoon.One thing I can complain about is Stilger. I have mixed feelings. In Part One, Javier was fierce and was my favorite character, in this movie though he's depicted as a religious fanatic for the most part. It was done well, but I still miss the Stilgar who walked up to Duke Leto Atreides with no disregard. This felt like a different person, still fierce, just different.Loved Austin butler though, I wasn't sure what to expect as I tried my best to avoid trailers and teasers apart from the Dune part one bonus content. That short lady in charge of extracting 'the water of life' had some insane calves on her, I'm extremely jealous.While I was initially not convinced about Timothée Chalamet as the lead, he truly owns the role in the sequel, displayed acting facets I'd not seen before from him. The movie essentially unfolds as Paul Atreides' coming-of-age story, with Zendaya delivering an amazing performance. The first act, focusing on their love story, adds depth to the events at the movie's end. Zendaya's portrayal transcends the typical love story, I hope her role extends into Dune: Messiah, and hopefully adds further complexity to her character.We see Paul undergo some transformations. From being the son of royalty to experiencing love, the narrative takes a surprising turn when he assumes authority in the third act. Although I liked it, it felt a bit rushed. But, I found solace/logic with the \"water of life\" spiritual poison, where drinking it resulted in a profound shift in your personality. The contrast between the before and after versions of Paul, as well as Jessica, is striking so it kinda made sense to me.I think watching this movie at home won't do it justice, it's clearly made for the big screens if you can. It's pretty epic and I think it'll remain memorable as one of 2024's best movies, despite only being February. I absolutely loved it.   \n",
              "2                                                                                                                                                                                                                                                                                                                                                                                                                                                                                                                                                                                                                                                                                                                                                                                                                                                                                                                                                                                                                                                                                                                                                                                                                                                                                                                                                                                                                                                                                                                                                                                                                                                                                                                                                                                                                                                                                                                                                                                                                                                                                                                                                                                                                                                                                                                                                                                                                                                                                                                                                                                                                                                                                                                                                                                                                                                                                                                                                                                                                                                                                                                                                                                                                                                                                                                                                                                                                                                                                                                                                                                                                                                                                                                                                                                                                                                                                                                                                                                                                                                                                                                                                                                                                                                                                                                                                                                                                                                                                                                                                                                                                                                                                                                                                                                                                                                                                                                                                                                                                                                                                                                    This is the kind of movie that is impossible to do justice, just by talking about it! It is the kind of experience you had once.. but you never thought you would get again.. until this movie proves you WRONG!!This movie takes the aspects of the first movie and improves upon them in almost every way possible, already writing itself into the books of greatest sequels of ALL TIME!!Everything in this movie was TOP notch! Dennis Villeneauve proves why he is not only a master of Sci-Fi movies, but just filmmaking in general! This was a demonstration of power, in what you can achieve with filmmaking!I beg you to watch this on the biggest and best screen you can find! This will be an experience that will stick with you forever!I thought the real Blockbuster was dead.. but I was wrong! This is the cinematic experience i craved!Now I am gonna watch this movie again, and maybe again! Then I am gonna read the books!   \n",
              "3                                                                                                                                                                                                                                                                                                                                                                                                                                                                                                                                                                                                                                                                                                                                                                                                                                                                                                                                                                                                                                                                                                                                                                                                                                                                                                                                                                                                                                                                                                                                                                                                                                                                                                                                                                                                                                                                                                                                                                                                                                                                                                                                                                                                                                                                                                                                                                                                                                                                                                                                                                                                                                                                                                                                                                                                                                                                                                                                                                                                                                                                                                                                                                                                                                                                                                                                                                                                                                                                                                                                                                                                                                                                                                                                                                                                                                                                                                                                                                                                                                                                                                                                                                                                                                                                                                                                                                                                                                                                                                                                                                                                                                                                                                                                                                                                                                                                                       If you liked or loved the first one, the same will apply for this one. Personally, I loved this one even more and I think general audiences will as well. So I hope it does well at the box office because I need Dune Messiah now. This is everything I love about going to the movies. Also, Hans Zimmer.For book readers, I'd say this one takes more liberties than the first, but they were changes I liked, some for the better even. For the most part, it still hits the main beats from the book with a few things altered. The biggest change being no time jump. Therefore, a certain character doesn't fully appear in the movie contrary to the book. Though, they still use the character in a different way that I liked personally.I know it's early in the year, but you can lock some Oscar nominations for this movie: Best Picture, Best Director, Best Adapted Screenplay, Best Editing, Best Cinematography, Best Score, Best Sound, Best Visual Effects, Best Costume, Best Production Design, Best Makeup, and hopefully Rebecca Ferguson this time for Best Supporting Actress. I guess that's pretty much every category now that I've typed it out lol.   \n",
              "4                                                                                                                                                                                                                                                                                                                                                                                                                                                                                                                                                                                                                                                                                                                                                                                                                                                                                                                                                                                                                                                                                                                                                                                                                                                                                                                                                                                                                                                                                                                                                                                                                                                                                                                                                                                                                                                                                                                                                                                                                                                                                                                                                                                                                                                                                                                                                                                                                                                                                                                                                                                                                                                                                                                                                                                                                                                                                                                                                                                                                                                                                                                                                                                                                                                                                                                                                                                                                                                                                                                                                                                                                                                            Had the pleasure to watch this film in an early screening and was completely blown away.As a big fan of the Game of Thrones franchise, it's been a long time since iv'e encountered this level of world-building and epicness. Would highly recommend to re-watch the first movie in order to appreciate the subtleties and foreshadowing better, though it's not completely necessary since the movie is pretty self-contained and would please general audience that only watched the first movie 3 years ago just as well.Denis Villeneuve continues to prove himself as one of the most promising filmmakers of our time, and if it was up to me I would keep him in these high-budget epic tales such as these since there are very few directors working today that can tackle this genre as good as he does.In my personal opinion, the movie is better than the first part in pretty much every aspect. Hans Zimmer's score is masterful just as you'd expect, and one step up from the Oscar winner and Grammy nominated score of Pt. 1. Technical aspects such as VFX, Production Design, Sound, Editing, etc. Are all top notch and awards-worthy. The action sequences are absolutely mind blowing and sent chills down my spine. Denis direction is impeccable, and the story is absolutely fascinating- continuing to develop characters from Pt. 1 even deeper and introduce new incredible and intriguing characters.The movie serves as a great wrap-up to the story introduced in Pt. 1 however in my opinion could serve as an even better set-up to a possible masterpiece in Dune: Messiah, which I really hope will get green-lit soon.I believe (and surely hope) this movie will be a major player in the next Award Season. Below-the-line wins are pretty much guaranteed as of now, but I hope it will get some love in above-the-line categories such as Direction and even Best Picture, perhaps to break stigmas presented against the Fantasy/Sci-Fi genre in recent years at the Academy. As a big fan of the genre, unless a better competitor will be released later this eligibility period, maybe it's time for a movie like this to triumph once again.Don't miss the opportunity to catch this movie on IMAX, since I believe it's an historic piece of epic-Fantasy/Sci-Fi cinema and a movie that will be remembered as a classic of the genre.Extremely recommended.   \n",
              "\n",
              "   rating  \n",
              "0    10.0  \n",
              "1     9.0  \n",
              "2    10.0  \n",
              "3    10.0  \n",
              "4    10.0  "
            ],
            "text/html": [
              "\n",
              "  <div id=\"df-2aea34cd-8d3c-4700-b54e-59c53b6ee034\" class=\"colab-df-container\">\n",
              "    <div>\n",
              "<style scoped>\n",
              "    .dataframe tbody tr th:only-of-type {\n",
              "        vertical-align: middle;\n",
              "    }\n",
              "\n",
              "    .dataframe tbody tr th {\n",
              "        vertical-align: top;\n",
              "    }\n",
              "\n",
              "    .dataframe thead th {\n",
              "        text-align: right;\n",
              "    }\n",
              "</style>\n",
              "<table border=\"1\" class=\"dataframe\">\n",
              "  <thead>\n",
              "    <tr style=\"text-align: right;\">\n",
              "      <th></th>\n",
              "      <th>title</th>\n",
              "      <th>date</th>\n",
              "      <th>content</th>\n",
              "      <th>rating</th>\n",
              "    </tr>\n",
              "  </thead>\n",
              "  <tbody>\n",
              "    <tr>\n",
              "      <th>0</th>\n",
              "      <td>This is what Hollywood needs!\\n</td>\n",
              "      <td>2024-02-26</td>\n",
              "      <td>This is what Hollywood needs. A great story with a great director/producer. After that the best thing a studio can do is get the hell out of the way and let artists create art.Dune Part 2 is creative, beautiful, tragic, and mesmerizing. Never once did I get bored or anticipate what was going to happen next. I haven't read the book so I have nothing to compare it to.Denis Villeneuve continues to amaze me with the effort he puts into each of his films. The acting in this film was top notch too. We saw it in IMAX and the sound was earth shattering. If you're gonna see this movie, see it on the largest screen possible.</td>\n",
              "      <td>10.0</td>\n",
              "    </tr>\n",
              "    <tr>\n",
              "      <th>1</th>\n",
              "      <td>Long live the fighters\\n</td>\n",
              "      <td>2024-02-26</td>\n",
              "      <td>Phenomenal stuff. I'll probably calm down tomorrow but right now my heart's beating like crazy and my brain's screaming it's a bloody masterpiece. This is one of the few movies that I didn't try to control my expectations beforehand and it still surpassed them in many ways.\"Power over spice is power over all\"- that kinda turned out to be a lie at the end. As The movie starts, I felt an immediate sense of tension through its score. It's a cinematic experience; I can't imagine feeling the same lying at home in bed, watching in headphones. The resonating vibrations as the sounds reverberate through the theater created an epic atmosphere.When Part One came out people said it was \"game of thrones in space\", I wasn't really taken by that as much, especially since people said the same about Apple TV's Foundation series. So I just enjoyed the movie as Dune and bore no comparisons. After watching part two however I see it; the world building, the politics, the epic grandeur of it all.However, the first half of Dune Part Two is pretty grounded and calm, delving into the lives of the Fremen. It almost feels like two distinct movies, the first half intricately setting the stage for the climactic third act and reinforcing character connections established in Dune Part One. Unlike the Part One's focus on lore, this movie is more devotion-driven, also resembling a political narrative, especially knowing of the hidden puppeteers behind the empire. The result appears to be an intricate web of schemes involving the empire, the witch-advisor women(can't spell their names lol), and the Baron's family. Despite the emperor's pulling the strings, the Baron's family still felt like main antagonist to me.The second half of the movie is where we see the epic scale of dune. The movies not quick paced but you couldn't tell, I was absolutely immersed in it.I absolutely loved the kind \"The mahdi is too humble to say he is the mahdi.\" Theatre burst out in laughter. It felt weird, I wasn't expecting any humour. It's funnier than I expected. More lively than the first Dune movie. I'd already seen the Usul-worm-riding scene from the Dune Part One reopening bonus content. I was still just as excited and it didn't spoil a thing.The visual brilliance, as expected was stunning, elevating every aspect. The authenticity of the scenes made it feel as if characters were immersed in the environment, rather than merely placed against a green screen. I loved the portrayal of time passing through Paul's changing eyes; the longer he stays the bluer his eyes get. Despite how lively it is, the plot, while progressing at a measured pace, remains engaging, drawing attention away from its deliberate slowness. It has much more action, the battles were absolutely epic, I feel like they could have been longer but they still captivated me.Jessica disappears for a while, but just when I thought that, she showed up. Other than Paul and Zendeya, the rest of the cast doesn't really get as much screen time as you'd think. I loved the baby/embryo/featus scenes. Batista with no mask in the desert while his whole team's suited up was badass. I love him in darker roles, although I think some moments felt overly animated. But it gave an effective contrast to Austin Butler though, I couldn't wait to see what his character was like. Very fierce, intimidating and psycho. The girl shivering with the plate in her hands before the gladiator games made me chuckle. Butler did also sound like the baron at times.Dune: Part Two stands steady on its own, it felt complete compared to the more introductory feel of Part One. Despite this, I still felt like it lays groundwork for Dune: Part Three/Messiah, leaving a sense of setup. The movie, while feeling like a precursor, still manages to provide a more conclusive ending. I also think you should watch Part One first, if that has to be said; and the prospect of a back-to-back viewing sounds like a fun afternoon.One thing I can complain about is Stilger. I have mixed feelings. In Part One, Javier was fierce and was my favorite character, in this movie though he's depicted as a religious fanatic for the most part. It was done well, but I still miss the Stilgar who walked up to Duke Leto Atreides with no disregard. This felt like a different person, still fierce, just different.Loved Austin butler though, I wasn't sure what to expect as I tried my best to avoid trailers and teasers apart from the Dune part one bonus content. That short lady in charge of extracting 'the water of life' had some insane calves on her, I'm extremely jealous.While I was initially not convinced about Timothée Chalamet as the lead, he truly owns the role in the sequel, displayed acting facets I'd not seen before from him. The movie essentially unfolds as Paul Atreides' coming-of-age story, with Zendaya delivering an amazing performance. The first act, focusing on their love story, adds depth to the events at the movie's end. Zendaya's portrayal transcends the typical love story, I hope her role extends into Dune: Messiah, and hopefully adds further complexity to her character.We see Paul undergo some transformations. From being the son of royalty to experiencing love, the narrative takes a surprising turn when he assumes authority in the third act. Although I liked it, it felt a bit rushed. But, I found solace/logic with the \"water of life\" spiritual poison, where drinking it resulted in a profound shift in your personality. The contrast between the before and after versions of Paul, as well as Jessica, is striking so it kinda made sense to me.I think watching this movie at home won't do it justice, it's clearly made for the big screens if you can. It's pretty epic and I think it'll remain memorable as one of 2024's best movies, despite only being February. I absolutely loved it.</td>\n",
              "      <td>9.0</td>\n",
              "    </tr>\n",
              "    <tr>\n",
              "      <th>2</th>\n",
              "      <td>Ladies and gentleman.. the PEAK of filmmaking!!\\n</td>\n",
              "      <td>2024-02-28</td>\n",
              "      <td>This is the kind of movie that is impossible to do justice, just by talking about it! It is the kind of experience you had once.. but you never thought you would get again.. until this movie proves you WRONG!!This movie takes the aspects of the first movie and improves upon them in almost every way possible, already writing itself into the books of greatest sequels of ALL TIME!!Everything in this movie was TOP notch! Dennis Villeneauve proves why he is not only a master of Sci-Fi movies, but just filmmaking in general! This was a demonstration of power, in what you can achieve with filmmaking!I beg you to watch this on the biggest and best screen you can find! This will be an experience that will stick with you forever!I thought the real Blockbuster was dead.. but I was wrong! This is the cinematic experience i craved!Now I am gonna watch this movie again, and maybe again! Then I am gonna read the books!</td>\n",
              "      <td>10.0</td>\n",
              "    </tr>\n",
              "    <tr>\n",
              "      <th>3</th>\n",
              "      <td>WOW! I need Dune Messiah now.\\n</td>\n",
              "      <td>2024-02-26</td>\n",
              "      <td>If you liked or loved the first one, the same will apply for this one. Personally, I loved this one even more and I think general audiences will as well. So I hope it does well at the box office because I need Dune Messiah now. This is everything I love about going to the movies. Also, Hans Zimmer.For book readers, I'd say this one takes more liberties than the first, but they were changes I liked, some for the better even. For the most part, it still hits the main beats from the book with a few things altered. The biggest change being no time jump. Therefore, a certain character doesn't fully appear in the movie contrary to the book. Though, they still use the character in a different way that I liked personally.I know it's early in the year, but you can lock some Oscar nominations for this movie: Best Picture, Best Director, Best Adapted Screenplay, Best Editing, Best Cinematography, Best Score, Best Sound, Best Visual Effects, Best Costume, Best Production Design, Best Makeup, and hopefully Rebecca Ferguson this time for Best Supporting Actress. I guess that's pretty much every category now that I've typed it out lol.</td>\n",
              "      <td>10.0</td>\n",
              "    </tr>\n",
              "    <tr>\n",
              "      <th>4</th>\n",
              "      <td>The Sci-Fi/Fantasy Epic of our Generation\\n</td>\n",
              "      <td>2024-02-26</td>\n",
              "      <td>Had the pleasure to watch this film in an early screening and was completely blown away.As a big fan of the Game of Thrones franchise, it's been a long time since iv'e encountered this level of world-building and epicness. Would highly recommend to re-watch the first movie in order to appreciate the subtleties and foreshadowing better, though it's not completely necessary since the movie is pretty self-contained and would please general audience that only watched the first movie 3 years ago just as well.Denis Villeneuve continues to prove himself as one of the most promising filmmakers of our time, and if it was up to me I would keep him in these high-budget epic tales such as these since there are very few directors working today that can tackle this genre as good as he does.In my personal opinion, the movie is better than the first part in pretty much every aspect. Hans Zimmer's score is masterful just as you'd expect, and one step up from the Oscar winner and Grammy nominated score of Pt. 1. Technical aspects such as VFX, Production Design, Sound, Editing, etc. Are all top notch and awards-worthy. The action sequences are absolutely mind blowing and sent chills down my spine. Denis direction is impeccable, and the story is absolutely fascinating- continuing to develop characters from Pt. 1 even deeper and introduce new incredible and intriguing characters.The movie serves as a great wrap-up to the story introduced in Pt. 1 however in my opinion could serve as an even better set-up to a possible masterpiece in Dune: Messiah, which I really hope will get green-lit soon.I believe (and surely hope) this movie will be a major player in the next Award Season. Below-the-line wins are pretty much guaranteed as of now, but I hope it will get some love in above-the-line categories such as Direction and even Best Picture, perhaps to break stigmas presented against the Fantasy/Sci-Fi genre in recent years at the Academy. As a big fan of the genre, unless a better competitor will be released later this eligibility period, maybe it's time for a movie like this to triumph once again.Don't miss the opportunity to catch this movie on IMAX, since I believe it's an historic piece of epic-Fantasy/Sci-Fi cinema and a movie that will be remembered as a classic of the genre.Extremely recommended.</td>\n",
              "      <td>10.0</td>\n",
              "    </tr>\n",
              "  </tbody>\n",
              "</table>\n",
              "</div>\n",
              "    <div class=\"colab-df-buttons\">\n",
              "\n",
              "  <div class=\"colab-df-container\">\n",
              "    <button class=\"colab-df-convert\" onclick=\"convertToInteractive('df-2aea34cd-8d3c-4700-b54e-59c53b6ee034')\"\n",
              "            title=\"Convert this dataframe to an interactive table.\"\n",
              "            style=\"display:none;\">\n",
              "\n",
              "  <svg xmlns=\"http://www.w3.org/2000/svg\" height=\"24px\" viewBox=\"0 -960 960 960\">\n",
              "    <path d=\"M120-120v-720h720v720H120Zm60-500h600v-160H180v160Zm220 220h160v-160H400v160Zm0 220h160v-160H400v160ZM180-400h160v-160H180v160Zm440 0h160v-160H620v160ZM180-180h160v-160H180v160Zm440 0h160v-160H620v160Z\"/>\n",
              "  </svg>\n",
              "    </button>\n",
              "\n",
              "  <style>\n",
              "    .colab-df-container {\n",
              "      display:flex;\n",
              "      gap: 12px;\n",
              "    }\n",
              "\n",
              "    .colab-df-convert {\n",
              "      background-color: #E8F0FE;\n",
              "      border: none;\n",
              "      border-radius: 50%;\n",
              "      cursor: pointer;\n",
              "      display: none;\n",
              "      fill: #1967D2;\n",
              "      height: 32px;\n",
              "      padding: 0 0 0 0;\n",
              "      width: 32px;\n",
              "    }\n",
              "\n",
              "    .colab-df-convert:hover {\n",
              "      background-color: #E2EBFA;\n",
              "      box-shadow: 0px 1px 2px rgba(60, 64, 67, 0.3), 0px 1px 3px 1px rgba(60, 64, 67, 0.15);\n",
              "      fill: #174EA6;\n",
              "    }\n",
              "\n",
              "    .colab-df-buttons div {\n",
              "      margin-bottom: 4px;\n",
              "    }\n",
              "\n",
              "    [theme=dark] .colab-df-convert {\n",
              "      background-color: #3B4455;\n",
              "      fill: #D2E3FC;\n",
              "    }\n",
              "\n",
              "    [theme=dark] .colab-df-convert:hover {\n",
              "      background-color: #434B5C;\n",
              "      box-shadow: 0px 1px 3px 1px rgba(0, 0, 0, 0.15);\n",
              "      filter: drop-shadow(0px 1px 2px rgba(0, 0, 0, 0.3));\n",
              "      fill: #FFFFFF;\n",
              "    }\n",
              "  </style>\n",
              "\n",
              "    <script>\n",
              "      const buttonEl =\n",
              "        document.querySelector('#df-2aea34cd-8d3c-4700-b54e-59c53b6ee034 button.colab-df-convert');\n",
              "      buttonEl.style.display =\n",
              "        google.colab.kernel.accessAllowed ? 'block' : 'none';\n",
              "\n",
              "      async function convertToInteractive(key) {\n",
              "        const element = document.querySelector('#df-2aea34cd-8d3c-4700-b54e-59c53b6ee034');\n",
              "        const dataTable =\n",
              "          await google.colab.kernel.invokeFunction('convertToInteractive',\n",
              "                                                    [key], {});\n",
              "        if (!dataTable) return;\n",
              "\n",
              "        const docLinkHtml = 'Like what you see? Visit the ' +\n",
              "          '<a target=\"_blank\" href=https://colab.research.google.com/notebooks/data_table.ipynb>data table notebook</a>'\n",
              "          + ' to learn more about interactive tables.';\n",
              "        element.innerHTML = '';\n",
              "        dataTable['output_type'] = 'display_data';\n",
              "        await google.colab.output.renderOutput(dataTable, element);\n",
              "        const docLink = document.createElement('div');\n",
              "        docLink.innerHTML = docLinkHtml;\n",
              "        element.appendChild(docLink);\n",
              "      }\n",
              "    </script>\n",
              "  </div>\n",
              "\n",
              "\n",
              "<div id=\"df-0cd592b6-9801-4246-a2e3-f292571f7267\">\n",
              "  <button class=\"colab-df-quickchart\" onclick=\"quickchart('df-0cd592b6-9801-4246-a2e3-f292571f7267')\"\n",
              "            title=\"Suggest charts\"\n",
              "            style=\"display:none;\">\n",
              "\n",
              "<svg xmlns=\"http://www.w3.org/2000/svg\" height=\"24px\"viewBox=\"0 0 24 24\"\n",
              "     width=\"24px\">\n",
              "    <g>\n",
              "        <path d=\"M19 3H5c-1.1 0-2 .9-2 2v14c0 1.1.9 2 2 2h14c1.1 0 2-.9 2-2V5c0-1.1-.9-2-2-2zM9 17H7v-7h2v7zm4 0h-2V7h2v10zm4 0h-2v-4h2v4z\"/>\n",
              "    </g>\n",
              "</svg>\n",
              "  </button>\n",
              "\n",
              "<style>\n",
              "  .colab-df-quickchart {\n",
              "      --bg-color: #E8F0FE;\n",
              "      --fill-color: #1967D2;\n",
              "      --hover-bg-color: #E2EBFA;\n",
              "      --hover-fill-color: #174EA6;\n",
              "      --disabled-fill-color: #AAA;\n",
              "      --disabled-bg-color: #DDD;\n",
              "  }\n",
              "\n",
              "  [theme=dark] .colab-df-quickchart {\n",
              "      --bg-color: #3B4455;\n",
              "      --fill-color: #D2E3FC;\n",
              "      --hover-bg-color: #434B5C;\n",
              "      --hover-fill-color: #FFFFFF;\n",
              "      --disabled-bg-color: #3B4455;\n",
              "      --disabled-fill-color: #666;\n",
              "  }\n",
              "\n",
              "  .colab-df-quickchart {\n",
              "    background-color: var(--bg-color);\n",
              "    border: none;\n",
              "    border-radius: 50%;\n",
              "    cursor: pointer;\n",
              "    display: none;\n",
              "    fill: var(--fill-color);\n",
              "    height: 32px;\n",
              "    padding: 0;\n",
              "    width: 32px;\n",
              "  }\n",
              "\n",
              "  .colab-df-quickchart:hover {\n",
              "    background-color: var(--hover-bg-color);\n",
              "    box-shadow: 0 1px 2px rgba(60, 64, 67, 0.3), 0 1px 3px 1px rgba(60, 64, 67, 0.15);\n",
              "    fill: var(--button-hover-fill-color);\n",
              "  }\n",
              "\n",
              "  .colab-df-quickchart-complete:disabled,\n",
              "  .colab-df-quickchart-complete:disabled:hover {\n",
              "    background-color: var(--disabled-bg-color);\n",
              "    fill: var(--disabled-fill-color);\n",
              "    box-shadow: none;\n",
              "  }\n",
              "\n",
              "  .colab-df-spinner {\n",
              "    border: 2px solid var(--fill-color);\n",
              "    border-color: transparent;\n",
              "    border-bottom-color: var(--fill-color);\n",
              "    animation:\n",
              "      spin 1s steps(1) infinite;\n",
              "  }\n",
              "\n",
              "  @keyframes spin {\n",
              "    0% {\n",
              "      border-color: transparent;\n",
              "      border-bottom-color: var(--fill-color);\n",
              "      border-left-color: var(--fill-color);\n",
              "    }\n",
              "    20% {\n",
              "      border-color: transparent;\n",
              "      border-left-color: var(--fill-color);\n",
              "      border-top-color: var(--fill-color);\n",
              "    }\n",
              "    30% {\n",
              "      border-color: transparent;\n",
              "      border-left-color: var(--fill-color);\n",
              "      border-top-color: var(--fill-color);\n",
              "      border-right-color: var(--fill-color);\n",
              "    }\n",
              "    40% {\n",
              "      border-color: transparent;\n",
              "      border-right-color: var(--fill-color);\n",
              "      border-top-color: var(--fill-color);\n",
              "    }\n",
              "    60% {\n",
              "      border-color: transparent;\n",
              "      border-right-color: var(--fill-color);\n",
              "    }\n",
              "    80% {\n",
              "      border-color: transparent;\n",
              "      border-right-color: var(--fill-color);\n",
              "      border-bottom-color: var(--fill-color);\n",
              "    }\n",
              "    90% {\n",
              "      border-color: transparent;\n",
              "      border-bottom-color: var(--fill-color);\n",
              "    }\n",
              "  }\n",
              "</style>\n",
              "\n",
              "  <script>\n",
              "    async function quickchart(key) {\n",
              "      const quickchartButtonEl =\n",
              "        document.querySelector('#' + key + ' button');\n",
              "      quickchartButtonEl.disabled = true;  // To prevent multiple clicks.\n",
              "      quickchartButtonEl.classList.add('colab-df-spinner');\n",
              "      try {\n",
              "        const charts = await google.colab.kernel.invokeFunction(\n",
              "            'suggestCharts', [key], {});\n",
              "      } catch (error) {\n",
              "        console.error('Error during call to suggestCharts:', error);\n",
              "      }\n",
              "      quickchartButtonEl.classList.remove('colab-df-spinner');\n",
              "      quickchartButtonEl.classList.add('colab-df-quickchart-complete');\n",
              "    }\n",
              "    (() => {\n",
              "      let quickchartButtonEl =\n",
              "        document.querySelector('#df-0cd592b6-9801-4246-a2e3-f292571f7267 button');\n",
              "      quickchartButtonEl.style.display =\n",
              "        google.colab.kernel.accessAllowed ? 'block' : 'none';\n",
              "    })();\n",
              "  </script>\n",
              "</div>\n",
              "\n",
              "    </div>\n",
              "  </div>\n"
            ],
            "application/vnd.google.colaboratory.intrinsic+json": {
              "type": "dataframe",
              "variable_name": "df3",
              "summary": "{\n  \"name\": \"df3\",\n  \"rows\": 1056,\n  \"fields\": [\n    {\n      \"column\": \"title\",\n      \"properties\": {\n        \"dtype\": \"string\",\n        \"num_unique_values\": 1021,\n        \"samples\": [\n          \" Don't\\n\",\n          \" 10/10****\\n\",\n          \" Shoots big and mostly hits the mark\\n\"\n        ],\n        \"semantic_type\": \"\",\n        \"description\": \"\"\n      }\n    },\n    {\n      \"column\": \"date\",\n      \"properties\": {\n        \"dtype\": \"object\",\n        \"num_unique_values\": 10,\n        \"samples\": [\n          \"2024-02-27\",\n          \"2024-02-28\",\n          \"2024-03-02\"\n        ],\n        \"semantic_type\": \"\",\n        \"description\": \"\"\n      }\n    },\n    {\n      \"column\": \"content\",\n      \"properties\": {\n        \"dtype\": \"string\",\n        \"num_unique_values\": 1055,\n        \"samples\": [\n          \"Rarely have I been so awed at the cinema. I very much enjoyed Dune Part 1, and expected something similar with Part 2. However, this second part takes it to another level and delivers one of the best films I've ever seen. This is real cinema. How can I go back to superhero movies after an experience like this? I feel like we've been so deprived of this quality for years.The acting is top-tier and Timothee Chalamet does an excellent job (as does the whole cast). The costumes are beautiful, the cinematography is breath-taking, the themes are rich and complex. I could go on!Thank you Denis Villeneuve and the team for giving the world this masterpiece in filmmaking!\",\n          \"I think... this might have been the greatest thing I have ever witnessed.I... almost have no words to describe what I just experienced.All I can say is.. if you are a lover of sci-fi your life will not be complete until you have experienced this. I could have sat for 3 additional hours and I am glad I paid for the seats with the force feedback because during the battle scenes it tripped me the hell out. Please, do yourself a favor and go see this. I am about to buy another ticket and see it again.Love love love love love this movie, it actually significantly surpasses the first which I also liked.\",\n          \"The perfect movie doesn't exis....\\nDune made me feel nostalgia so badly for a time i never lived. I'm so in love with the way it made me feel excited and anxious and amazed in every litle frame and I'm sure this movie would never be the same without Zimmer.The scenes where Chani gets emotional without saying anything shows how phenomenal Zendaya is. Who cries with their chin like that?Also I thought that Timoth\\u00e9e evolved a lot as an actor and the third act was breathtaking because of it.I loved how the Bene Gesserit plot shows us a side of the story that resembles real life, I loved the way it all became very tangible.\"\n        ],\n        \"semantic_type\": \"\",\n        \"description\": \"\"\n      }\n    },\n    {\n      \"column\": \"rating\",\n      \"properties\": {\n        \"dtype\": \"number\",\n        \"std\": 2.1488050645684136,\n        \"min\": 1.0,\n        \"max\": 10.0,\n        \"num_unique_values\": 10,\n        \"samples\": [\n          2.0,\n          9.0,\n          6.0\n        ],\n        \"semantic_type\": \"\",\n        \"description\": \"\"\n      }\n    }\n  ]\n}"
            }
          },
          "metadata": {},
          "execution_count": 20
        }
      ]
    },
    {
      "cell_type": "code",
      "source": [
        "df3.rating"
      ],
      "metadata": {
        "colab": {
          "base_uri": "https://localhost:8080/"
        },
        "id": "TU5bGlA5JDSx",
        "outputId": "46f9dbdd-559e-4132-8a46-a33967b3ffc5"
      },
      "execution_count": 22,
      "outputs": [
        {
          "output_type": "execute_result",
          "data": {
            "text/plain": [
              "0       10.0\n",
              "1        9.0\n",
              "2       10.0\n",
              "3       10.0\n",
              "4       10.0\n",
              "        ... \n",
              "1061     8.0\n",
              "1062     7.0\n",
              "1063     6.0\n",
              "1064     7.0\n",
              "1065     7.0\n",
              "Name: rating, Length: 1056, dtype: float64"
            ]
          },
          "metadata": {},
          "execution_count": 22
        }
      ]
    },
    {
      "cell_type": "code",
      "source": [
        "df3['rating'] = pd.to_numeric(df3['rating'], errors='coerce')"
      ],
      "metadata": {
        "id": "ALrDMD8YKNt9"
      },
      "execution_count": 24,
      "outputs": []
    },
    {
      "cell_type": "code",
      "source": [
        "df3.rating"
      ],
      "metadata": {
        "colab": {
          "base_uri": "https://localhost:8080/"
        },
        "id": "2BJJhAHoKV1I",
        "outputId": "4b469aae-dadb-41cc-d00c-3056af265721"
      },
      "execution_count": 25,
      "outputs": [
        {
          "output_type": "execute_result",
          "data": {
            "text/plain": [
              "0       10.0\n",
              "1        9.0\n",
              "2       10.0\n",
              "3       10.0\n",
              "4       10.0\n",
              "        ... \n",
              "1061     8.0\n",
              "1062     7.0\n",
              "1063     6.0\n",
              "1064     7.0\n",
              "1065     7.0\n",
              "Name: rating, Length: 1056, dtype: float64"
            ]
          },
          "metadata": {},
          "execution_count": 25
        }
      ]
    },
    {
      "cell_type": "code",
      "source": [
        "df3['rating'] = df3['rating'].astype(int)"
      ],
      "metadata": {
        "id": "CwqFzDtrKbBh"
      },
      "execution_count": 26,
      "outputs": []
    },
    {
      "cell_type": "code",
      "source": [
        "df3['rating']"
      ],
      "metadata": {
        "colab": {
          "base_uri": "https://localhost:8080/"
        },
        "id": "xRsY33TtKml4",
        "outputId": "d2d3767a-9758-42d5-9b27-7ef8895af648"
      },
      "execution_count": 27,
      "outputs": [
        {
          "output_type": "execute_result",
          "data": {
            "text/plain": [
              "0       10\n",
              "1        9\n",
              "2       10\n",
              "3       10\n",
              "4       10\n",
              "        ..\n",
              "1061     8\n",
              "1062     7\n",
              "1063     6\n",
              "1064     7\n",
              "1065     7\n",
              "Name: rating, Length: 1056, dtype: int64"
            ]
          },
          "metadata": {},
          "execution_count": 27
        }
      ]
    },
    {
      "cell_type": "code",
      "source": [
        "tNames = [\n",
        "    \"Timothée Hal Chalamet\",\n",
        "    \"Timmy\",\n",
        "    \"Tim\",\n",
        "    \"Timothée\",\n",
        "    \"Chalamet\",\n",
        "    \"Timmy Chalamet\",\n",
        "    \"TimChal\",\n",
        "    \"Timo\",\n",
        "    \"Timmy Tim\",\n",
        "    \"Timotheat\",\n",
        "    \"Timothea\",\n",
        "    \"Timotheus\",\n",
        "    \"Timberlake Chalamet\",\n",
        "    \"Timothee Charizard\"\n",
        "]\n"
      ],
      "metadata": {
        "id": "shCZfzOvKn7T"
      },
      "execution_count": 28,
      "outputs": []
    },
    {
      "cell_type": "markdown",
      "source": [
        "1. New column 'timothe'\n",
        "2. 1 for positive sentiment and 0 for negative sentiment\n",
        "3. Same for Zendaya"
      ],
      "metadata": {
        "id": "yiFwSxbiMED5"
      }
    },
    {
      "cell_type": "code",
      "source": [
        "import nltk\n",
        "nltk.download('punkt')\n",
        "\n",
        "from nltk.sentiment import SentimentIntensityAnalyzer\n",
        "\n",
        "# Download NLTK's VADER lexicon for sentiment analysis\n",
        "nltk.download('vader_lexicon')\n",
        "\n",
        "def analyze_sentiment(paragraph):\n",
        "    # Tokenize the paragraph into words\n",
        "    words = nltk.word_tokenize(paragraph)\n",
        "\n",
        "    # Initialize the sentiment analyzer\n",
        "    sia = SentimentIntensityAnalyzer()\n",
        "\n",
        "    # Calculate sentiment scores for each word and aggregate them\n",
        "    overall_sentiment = sum(sia.polarity_scores(word)['compound'] for word in words)\n",
        "\n",
        "    # Interpret the overall sentiment score\n",
        "    if overall_sentiment > 0:\n",
        "        return \"Positive\"\n",
        "    elif overall_sentiment < 0:\n",
        "        return \"Negative\"\n",
        "    else:\n",
        "        return \"Neutral\"\n",
        "\n",
        "# Example paragraph about Timothée Chalamet\n",
        "paragraph = \"Timothée Chalamet delivered a remarkable performance in the latest movie, winning praise from critics and audiences alike.\"\n",
        "\n",
        "# Analyze the sentiment of the paragraph\n",
        "sentiment = analyze_sentiment(paragraph)\n",
        "print(\"Sentiment:\", sentiment)\n"
      ],
      "metadata": {
        "colab": {
          "base_uri": "https://localhost:8080/"
        },
        "id": "v42pOzdwLBOE",
        "outputId": "247790ce-a725-411f-fade-1e1e2ce0c7dd"
      },
      "execution_count": 30,
      "outputs": [
        {
          "output_type": "stream",
          "name": "stderr",
          "text": [
            "[nltk_data] Downloading package punkt to /root/nltk_data...\n",
            "[nltk_data]   Unzipping tokenizers/punkt.zip.\n"
          ]
        },
        {
          "output_type": "stream",
          "name": "stdout",
          "text": [
            "Sentiment: Positive\n"
          ]
        },
        {
          "output_type": "stream",
          "name": "stderr",
          "text": [
            "[nltk_data] Downloading package vader_lexicon to /root/nltk_data...\n",
            "[nltk_data]   Package vader_lexicon is already up-to-date!\n"
          ]
        }
      ]
    },
    {
      "cell_type": "code",
      "source": [],
      "metadata": {
        "id": "xnCPdvCaLjS4"
      },
      "execution_count": null,
      "outputs": []
    }
  ],
  "metadata": {
    "colab": {
      "provenance": []
    },
    "kernelspec": {
      "display_name": "Python 3",
      "name": "python3"
    },
    "language_info": {
      "name": "python"
    }
  },
  "nbformat": 4,
  "nbformat_minor": 0
}